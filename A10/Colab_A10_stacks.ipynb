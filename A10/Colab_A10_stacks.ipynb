{
  "cells": [
    {
      "cell_type": "markdown",
      "metadata": {
        "id": "cP32wAV3Yi-4"
      },
      "source": [
        "##**Stack Questions**"
      ]
    },
    {
      "cell_type": "markdown",
      "metadata": {
        "id": "KqdNjm1oY_ss"
      },
      "source": [
        "## Question 1: Write a function to sort a stack."
      ]
    },
    {
      "cell_type": "code",
      "execution_count": 17,
      "metadata": {
        "id": "mb9K46p3Ym0N"
      },
      "outputs": [
        {
          "name": "stdout",
          "output_type": "stream",
          "text": [
            "[3, 23, 31, 34, 92, 98]\n"
          ]
        }
      ],
      "source": [
        "def sort_stack(stack):\n",
        "  # Your code here\n",
        "  sorted_stack = []\n",
        "  while len(stack) != 0:\n",
        "    temp_num = stack.pop()\n",
        "    while (len(sorted_stack) != 0) and temp_num < sorted_stack[-1]:\n",
        "      stack.append(sorted_stack.pop())\n",
        "    sorted_stack.append(temp_num) \n",
        "  return sorted_stack\n",
        "\n",
        "stack = [34, 3, 31, 98, 92, 23]\n",
        "print(sort_stack(stack))"
      ]
    },
    {
      "cell_type": "markdown",
      "metadata": {
        "id": "jFxb6ss_Whwl"
      },
      "source": [
        "## Question 2: Depict the following image as a list.\n",
        "\n",
        "<img src=\"https://miro.medium.com/max/1050/1*XifPIMxbamGKhz5UAEdz2w.png\">\n",
        "\n",
        "#### Queue\n",
        "1. Add the number 9 to the list.\n",
        "2. Remove the first number (7) from the list.\n",
        "\n",
        "#### Stack\n",
        "3. Add the number 4 to the same list.\n",
        "4. Remove the last number added (4) from the list."
      ]
    },
    {
      "cell_type": "code",
      "execution_count": 5,
      "metadata": {
        "id": "XOm7YLTEWhwm"
      },
      "outputs": [
        {
          "name": "stdout",
          "output_type": "stream",
          "text": [
            "7\n",
            "4\n"
          ]
        }
      ],
      "source": [
        "#Your Answer:\n",
        "queue = [7,3,1,6,8]\n",
        "stack = [7,3,1,6,8]\n",
        "\n",
        "queue.append(9)\n",
        "print(queue.pop(0))\n",
        "\n",
        "stack.append(4)\n",
        "print(stack.pop())\n"
      ]
    },
    {
      "cell_type": "markdown",
      "metadata": {
        "id": "tQ3kgHVtWhwn"
      },
      "source": [
        "#### Question 3: Nodes\n",
        "\n",
        "<img src=\"https://encrypted-tbn0.gstatic.com/images?q=tbn:ANd9GcQW8-twGk0hCILE-muHBnG93hZJh2Qvgs7pVA&s\">\n",
        "\n",
        "1. Use a data structure of your choice to denote the different nodes.\n",
        "\n",
        "2. Create a function that sums all of the \"children\". Test with the node 10 (Expected answer is 37).\n"
      ]
    },
    {
      "cell_type": "code",
      "execution_count": 13,
      "metadata": {
        "id": "UU0rjzjXWhwn"
      },
      "outputs": [
        {
          "name": "stdout",
          "output_type": "stream",
          "text": [
            "37\n"
          ]
        }
      ],
      "source": [
        "#Your Answer:\n",
        "tree_sample = {8:[3,10],3:[1,6],6:[4,7],10:[14],14:[13]}\n",
        "\n",
        "def child_sum(tree, parent):\n",
        "    if parent not in tree.keys():\n",
        "        return None\n",
        "    node_list = []\n",
        "    node_list.append(parent)\n",
        "    for n in node_list:\n",
        "        if n in tree.keys():\n",
        "            for node in tree[n]:\n",
        "                node_list.append(node)\n",
        "    return sum(node_list)\n",
        "\n",
        "print(child_sum(tree_sample,10))\n",
        "    \n",
        "    \n",
        "    \n",
        "\n"
      ]
    }
  ],
  "metadata": {
    "colab": {
      "provenance": []
    },
    "hide_input": false,
    "kernelspec": {
      "display_name": "Python 3",
      "language": "python",
      "name": "python3"
    },
    "language_info": {
      "codemirror_mode": {
        "name": "ipython",
        "version": 3
      },
      "file_extension": ".py",
      "mimetype": "text/x-python",
      "name": "python",
      "nbconvert_exporter": "python",
      "pygments_lexer": "ipython3",
      "version": "3.12.3"
    },
    "toc": {
      "base_numbering": 1,
      "nav_menu": {},
      "number_sections": true,
      "sideBar": true,
      "skip_h1_title": false,
      "title_cell": "Table of Contents",
      "title_sidebar": "Contents",
      "toc_cell": false,
      "toc_position": {},
      "toc_section_display": true,
      "toc_window_display": false
    }
  },
  "nbformat": 4,
  "nbformat_minor": 0
}
